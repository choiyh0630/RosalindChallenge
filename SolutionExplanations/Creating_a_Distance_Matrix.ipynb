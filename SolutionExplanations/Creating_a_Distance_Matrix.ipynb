{
 "cells": [
  {
   "cell_type": "markdown",
   "metadata": {},
   "source": [
    "# Creating a Distance Matrix"
   ]
  },
  {
   "cell_type": "markdown",
   "metadata": {},
   "source": [
    "## Background Info"
   ]
  },
  {
   "cell_type": "markdown",
   "metadata": {},
   "source": [
    "One of approaches to build phylogenies is **distance-based phylogeny**, which constructs a tree from evolutionary distances calculated between pairs of taxa. In this problem, we will consider an evolutionary function based on *Hamming distance*, which compares two homologous strands of DNA by counting the minimum possible number of point mutations that could have occurred on the evolutionary path between the two strands.\n",
    "\n",
    "* **Distance-based phylogeny**: The use of a distance matrix to construct phylogeny.\n",
    "* **Homologous**: Descending from the same ancestor."
   ]
  },
  {
   "cell_type": "markdown",
   "metadata": {},
   "source": [
    "## Problem"
   ]
  },
  {
   "cell_type": "markdown",
   "metadata": {},
   "source": [
    "For two strings $s_1$ and $s_2$ of equal length, the **p-distance** between them $d_p(s_1, s_2)$, is the proportion of corresponding symbols that differ between $s_1$ and $s_2$. The distances between pairs of taxa via a **distance matrix** $D$ can be represented by $D_{i,j}=d(s_i,s_j)$."
   ]
  },
  {
   "cell_type": "markdown",
   "metadata": {},
   "source": [
    "**Given**: A collection of $n \\ (n \\le 10)$ DNA strings $s_1,...,s_n$ of equal length. Strings are given in FASTA format.<br>\n",
    "**Return**: The matrix $D$ corresponding to the p-distance $d_p$ on the given strings."
   ]
  },
  {
   "cell_type": "markdown",
   "metadata": {},
   "source": [
    "# Solution Explained"
   ]
  },
  {
   "cell_type": "markdown",
   "metadata": {},
   "source": [
    "In order to obtain the p-distance matrix, for all given DNA strings, we'd have to calculate the p-distance between each DNA string and all other given DNA strings."
   ]
  },
  {
   "cell_type": "code",
   "execution_count": 2,
   "metadata": {},
   "outputs": [],
   "source": [
    "# read in the sample FASTA file containing the DNAs\n",
    "f = open('../Sample_Creating_a_Distance_Matrix.txt', 'r')\n",
    "l = f.read().splitlines()\n",
    "d = {}\n",
    "for s in l:\n",
    "    if s.startswith('>'):\n",
    "        name = s[1:]\n",
    "        d[name] = ''\n",
    "    elif not s.startswith('>'):\n",
    "        d[name] += s"
   ]
  },
  {
   "cell_type": "code",
   "execution_count": 3,
   "metadata": {},
   "outputs": [],
   "source": [
    "def p_matrix(dic):\n",
    "    \"\"\"Print the p-distance matrix\"\"\"\n",
    "    for id1 in dic.keys():\n",
    "        print(get_row_of_p_dist(id1, dic))\n",
    "\n",
    "def get_row_of_p_dist(id1, dic):\n",
    "    \"\"\"Return the p-distances between DNA with id1 and all the given DNA sequences\"\"\"\n",
    "    p_dist_row = ''\n",
    "    for id2 in dic.keys():\n",
    "        p_dist_row += ' ' + str(p_dist(id1, id2, dic))\n",
    "    return p_dist_row[1:]\n",
    "\n",
    "def p_dist(id1, id2, dic):\n",
    "    \"\"\"Return the p-distance between DNA sequence with id1 and DNA sequence with id2\"\"\"\n",
    "    s1 = dic[id1]\n",
    "    s2 = dic[id2]\n",
    "    # -- code 1: using for loop\n",
    "    # divisor = len(s1)\n",
    "    # dividend = 0\n",
    "    # for i in range(len(s1)):\n",
    "    #     if s1[i] != s2[i]:\n",
    "    #         dividend += 1\n",
    "    # return dividend / divisor\n",
    "    # -- code 2: using list comprehension\n",
    "    return sum([s1[i] != s2[i] for i in range(len(s1))]) / len(s1)\n",
    "\n"
   ]
  },
  {
   "cell_type": "code",
   "execution_count": 4,
   "metadata": {},
   "outputs": [
    {
     "name": "stdout",
     "output_type": "stream",
     "text": [
      "0.0 0.4 0.1 0.1\n",
      "0.4 0.0 0.4 0.3\n",
      "0.1 0.4 0.0 0.2\n",
      "0.1 0.3 0.2 0.0\n"
     ]
    }
   ],
   "source": [
    "p_matrix(d)"
   ]
  },
  {
   "cell_type": "markdown",
   "metadata": {},
   "source": [
    "## Actual Dataset"
   ]
  },
  {
   "cell_type": "code",
   "execution_count": 6,
   "metadata": {},
   "outputs": [],
   "source": [
    "f = open('../rosalind_pdst.txt', 'r')\n",
    "l = f.read().splitlines()\n",
    "d = {}\n",
    "for s in l:\n",
    "    if s.startswith('>'):\n",
    "        name = s[1:]\n",
    "        d[name] = ''\n",
    "    elif not s.startswith('>'):\n",
    "        d[name] += s"
   ]
  },
  {
   "cell_type": "code",
   "execution_count": 7,
   "metadata": {},
   "outputs": [
    {
     "name": "stdout",
     "output_type": "stream",
     "text": [
      "0.0 0.5823244552058111 0.4745762711864407 0.3305084745762712 0.662227602905569 0.6719128329297821 0.4963680387409201 0.559322033898305 0.6416464891041163\n",
      "0.5823244552058111 0.0 0.324455205811138 0.5181598062953995 0.49515738498789347 0.5 0.5847457627118644 0.5096852300242131 0.3365617433414044\n",
      "0.4745762711864407 0.324455205811138 0.0 0.3196125907990315 0.5799031476997578 0.6222760290556901 0.49031476997578693 0.3268765133171913 0.5121065375302664\n",
      "0.3305084745762712 0.5181598062953995 0.3196125907990315 0.0 0.635593220338983 0.6464891041162227 0.3196125907990315 0.49031476997578693 0.5968523002421308\n",
      "0.662227602905569 0.49515738498789347 0.5799031476997578 0.635593220338983 0.0 0.463680387409201 0.6549636803874092 0.6331719128329297 0.3135593220338983\n",
      "0.6719128329297821 0.5 0.6222760290556901 0.6464891041162227 0.463680387409201 0.0 0.6731234866828087 0.6707021791767555 0.30145278450363194\n",
      "0.4963680387409201 0.5847457627118644 0.49031476997578693 0.3196125907990315 0.6549636803874092 0.6731234866828087 0.0 0.562953995157385 0.6416464891041163\n",
      "0.559322033898305 0.5096852300242131 0.3268765133171913 0.49031476997578693 0.6331719128329297 0.6707021791767555 0.562953995157385 0.0 0.6162227602905569\n",
      "0.6416464891041163 0.3365617433414044 0.5121065375302664 0.5968523002421308 0.3135593220338983 0.30145278450363194 0.6416464891041163 0.6162227602905569 0.0\n"
     ]
    }
   ],
   "source": [
    "p_matrix(d)"
   ]
  },
  {
   "cell_type": "markdown",
   "metadata": {},
   "source": [
    "## Problem solved!"
   ]
  },
  {
   "cell_type": "code",
   "execution_count": null,
   "metadata": {},
   "outputs": [],
   "source": []
  }
 ],
 "metadata": {
  "kernelspec": {
   "display_name": "Python 3",
   "language": "python",
   "name": "python3"
  },
  "language_info": {
   "codemirror_mode": {
    "name": "ipython",
    "version": 3
   },
   "file_extension": ".py",
   "mimetype": "text/x-python",
   "name": "python",
   "nbconvert_exporter": "python",
   "pygments_lexer": "ipython3",
   "version": "3.7.4"
  }
 },
 "nbformat": 4,
 "nbformat_minor": 4
}
