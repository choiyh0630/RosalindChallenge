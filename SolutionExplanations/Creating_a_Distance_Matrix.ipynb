{
 "cells": [
  {
   "cell_type": "markdown",
   "metadata": {},
   "source": [
    "# Creating a Distance Matrix"
   ]
  },
  {
   "cell_type": "markdown",
   "metadata": {},
   "source": [
    "## Background Info"
   ]
  },
  {
   "cell_type": "markdown",
   "metadata": {},
   "source": [
    "One of approaches to build phylogenies is **distance-based phylogeny**, which constructs a tree from evolutionary distances calculated between pairs of taxa. In this problem, we will consider an evolutionary function based on *Hamming distance*, which compares two homologous strands of DNA by counting the minimum possible number of point mutations that could have occurred on the evolutionary path between the two strands.\n",
    "\n",
    "* **Distance-based phylogeny**: The use of a distance matrix to construct phylogeny.\n",
    "* **Homologous**: Descending from the same ancestor."
   ]
  },
  {
   "cell_type": "markdown",
   "metadata": {},
   "source": [
    "## Problem"
   ]
  },
  {
   "cell_type": "markdown",
   "metadata": {},
   "source": [
    "For two strings $s_1$ and $s_2$ of equal length, the **p-distance** between them $d_p(s_1, s_2)$, is the proportion of corresponding symbols that differ between $s_1$ and $s_2$. The distances between pairs of taxa via a **distance matrix** $D$ can be represented by $D_{i,j}=d(s_i,s_j)$."
   ]
  },
  {
   "cell_type": "markdown",
   "metadata": {},
   "source": [
    "**Given**: A collection of $n \\ (n \\le 10)$ DNA strings $s_1,...,s_n$ of equal length. Strings are given in FASTA format.<br>\n",
    "**Return**: The matrix $D$ corresponding to the p-distance $d_p$ on the given strings."
   ]
  },
  {
   "cell_type": "code",
   "execution_count": null,
   "metadata": {},
   "outputs": [],
   "source": []
  }
 ],
 "metadata": {
  "kernelspec": {
   "display_name": "Python 3",
   "language": "python",
   "name": "python3"
  },
  "language_info": {
   "codemirror_mode": {
    "name": "ipython",
    "version": 3
   },
   "file_extension": ".py",
   "mimetype": "text/x-python",
   "name": "python",
   "nbconvert_exporter": "python",
   "pygments_lexer": "ipython3",
   "version": "3.7.4"
  }
 },
 "nbformat": 4,
 "nbformat_minor": 4
}
