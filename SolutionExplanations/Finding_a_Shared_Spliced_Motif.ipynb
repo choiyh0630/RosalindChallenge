{
 "cells": [
  {
   "cell_type": "markdown",
   "metadata": {},
   "source": [
    "# Finding a Shared Spliced Motif"
   ]
  },
  {
   "cell_type": "markdown",
   "metadata": {},
   "source": [
    "## Background Info"
   ]
  },
  {
   "cell_type": "markdown",
   "metadata": {},
   "source": [
    "### Locating Motifs Despite Introns\n",
    "\n",
    "* **Motif:** An interval of nucleotides (in DNA/RNA) or of amino acids (in proteins) that has biological importance. It could represent an important functional unit of a protein shared by many members of the same species, or a rare gene encoding a disorder. Motif is usually represented by a substring of a genetic string that we'd like to locate.\n",
    "\n",
    "We can search through a database containing multiple genetic strings (a DNA, RNA, or amino acid) to find a longest common substring of these strings, which serve as a **motif** shared by two strings. However, coding regions of DNA are often interspersed by introns that do not code for proteins. Therefore, there's a need to locate shared motifs that are separated across exons (motifs don't have to be contiguous). To model such situation, we use subsequences."
   ]
  },
  {
   "cell_type": "markdown",
   "metadata": {},
   "source": [
    "## Problem"
   ]
  },
  {
   "cell_type": "markdown",
   "metadata": {},
   "source": [
    "**Given:** Two DNA strings $s$ and $t$ (each having length at most 1kbp) in FASTA format. The two strings are not necessarily equal in length.<br>\n",
    "**Return:** A longest common subsequence of $s$ and $t$."
   ]
  },
  {
   "cell_type": "markdown",
   "metadata": {},
   "source": [
    "## Solution Explained"
   ]
  },
  {
   "cell_type": "markdown",
   "metadata": {},
   "source": [
    "We can use dynamic programmiing to solve this problem, as this problem has an optimal substructure and overlapping subproblems. It has an optimal substructure as the longest common subsequence of a substring of $s$ and $t$ can be combined of the previous longest common subsequence to obtain the optimal solution. The longest common subsequence problem also has overlapping subproblems as it can be broken down into subproblems where each subproblem is repeated and a recursive algorithm can be used to solve the same subproblem. The subproblem consists of 2 possible scenarios:<br>\n",
    "Let's only focus at the very last character of strings $s$ and $t$ to obtain the length of the longest common subsequence. We will call this function $LCS(s,t)$ where the function $LCS$ carries out the following steps with the input strings.<br>\n",
    "1. If the last character of $s$ and that of $t$ are the same characters, then we can add 1 to the length of the longest common subsequence value, cut off the last character from both $s$ and $t$, to obtain the longest common subsequence of those cut-off strings $s$ and $t$.\n",
    "2. If the last character of $s$ and that of $t$ are not the same, then, we can try to look for the length of the longest common subsequence between $s$ and $t$ where $t$ has its last character cut off, and for the length of the longest common subsequence between $s$ and $t$ where $s$ has its last character cut off. Then, we can obtain the maximum between the 2 length values to obtain the length of the longest common subsequence between $s$ and $t$."
   ]
  },
  {
   "cell_type": "markdown",
   "metadata": {},
   "source": [
    "First, let's read in the two DNA sequences."
   ]
  },
  {
   "cell_type": "code",
   "execution_count": 8,
   "metadata": {},
   "outputs": [
    {
     "name": "stdout",
     "output_type": "stream",
     "text": [
      "['ACACTGTGA', 'AACCTTGG']\n"
     ]
    }
   ],
   "source": [
    "from Bio import SeqIO\n",
    "import numpy as np\n",
    "\n",
    "dnas = SeqIO.parse(\"../Sample_Finding_a_Shared_Spliced_Motif.fa\", \"fasta\")\n",
    "# dnas = SeqIO.parse(\"./rosalind_lcsq.fa\", \"fasta\")\n",
    "dna_lst = []\n",
    "for dna in dnas:\n",
    "    dna_lst.append(str(dna.seq))\n",
    "dna_lst = sorted(dna_lst, key=len, reverse=True)\n",
    "s = dna_lst[0]\n",
    "t = dna_lst[1]\n",
    "\n",
    "print(dna_lst)"
   ]
  },
  {
   "cell_type": "markdown",
   "metadata": {},
   "source": [
    "Because we want to take into account the case of matching a character with an empty character when carrying out the Dynamic Programming algorithm on this problem, I added an empty space to each of the two strings."
   ]
  },
  {
   "cell_type": "code",
   "execution_count": 10,
   "metadata": {},
   "outputs": [],
   "source": [
    "s = \" \" + s\n",
    "t = \" \" + t"
   ]
  },
  {
   "cell_type": "markdown",
   "metadata": {},
   "source": [
    "Each column represents each character in string $t$, and each row represents each character in string $s$ in order, where the very first cell at position row 1 and column 1 is the empty string $\"\"$. Each cell in the dynamic programming table represents carrying out the function: $LCS(\\text{character at index i of s}, \\text{character at index j of t})$."
   ]
  },
  {
   "cell_type": "code",
   "execution_count": 18,
   "metadata": {},
   "outputs": [
    {
     "name": "stdout",
     "output_type": "stream",
     "text": [
      "The length of the longest common subsequence between s and t is: 6.0\n"
     ]
    }
   ],
   "source": [
    "dp_table = np.zeros((len(s), len(t)))\n",
    "\n",
    "for i in range(1, len(s)):\n",
    "    for j in range(1, len(t)):\n",
    "        if s[i] == t[j]:\n",
    "            dp_table[i][j] = dp_table[i - 1][j - 1] + 1\n",
    "        else:\n",
    "            dp_table[i][j] = max(dp_table[i - 1][j], dp_table[i][j - 1])\n",
    "\n",
    "print(\"The length of the longest common subsequence between s and t is:\", dp_table[-1][-1])"
   ]
  },
  {
   "cell_type": "markdown",
   "metadata": {},
   "source": [
    "Now that we've built the dynamic programming table where we obtained the length of the longest common subsequence, we have to traverse the dynamic programming table to obtain the actual longest common subsequence."
   ]
  },
  {
   "cell_type": "code",
   "execution_count": 13,
   "metadata": {},
   "outputs": [],
   "source": [
    "i = len(s) - 1\n",
    "j = len(t) - 1\n",
    "lcs = \"\"\n",
    "while dp_table[i][j] > 0:\n",
    "# while i * j != 0:\n",
    "    curr = dp_table[i][j]\n",
    "    left = dp_table[i][j - 1]\n",
    "    up = dp_table[i - 1][j]\n",
    "    if up == curr:\n",
    "        i -= 1\n",
    "    elif left == curr:\n",
    "        j -= 1\n",
    "    else:\n",
    "        lcs += s[i]\n",
    "        i -= 1\n",
    "        j -= 1"
   ]
  },
  {
   "cell_type": "code",
   "execution_count": 29,
   "metadata": {},
   "outputs": [
    {
     "name": "stdout",
     "output_type": "stream",
     "text": [
      "The longest common subsequence between s and t is:  AACTTG\n"
     ]
    }
   ],
   "source": [
    "lcs = lcs[::-1]\n",
    "\n",
    "print(\"The longest common subsequence between s and t is: \", lcs)"
   ]
  },
  {
   "cell_type": "markdown",
   "metadata": {},
   "source": [
    "The sequence above might not match the answer provided by Rosalind, but the length is the same, which means my answer is one of many possible answers."
   ]
  },
  {
   "cell_type": "markdown",
   "metadata": {},
   "source": [
    "## Actual dataset"
   ]
  },
  {
   "cell_type": "code",
   "execution_count": 28,
   "metadata": {},
   "outputs": [],
   "source": [
    "dnas = SeqIO.parse(\"../rosalind_lcsq.fa\", \"fasta\")\n",
    "dna_lst = []\n",
    "for dna in dnas:\n",
    "    dna_lst.append(str(dna.seq))\n",
    "dna_lst = sorted(dna_lst, key=len, reverse=True)\n",
    "s = dna_lst[0]\n",
    "t = dna_lst[1]"
   ]
  },
  {
   "cell_type": "code",
   "execution_count": 30,
   "metadata": {},
   "outputs": [],
   "source": [
    "dp_table = np.zeros((len(s), len(t)))\n",
    "\n",
    "for i in range(1, len(s)):\n",
    "    for j in range(1, len(t)):\n",
    "        if s[i] == t[j]:\n",
    "            dp_table[i][j] = dp_table[i - 1][j - 1] + 1\n",
    "        else:\n",
    "            dp_table[i][j] = max(dp_table[i - 1][j], dp_table[i][j - 1])"
   ]
  },
  {
   "cell_type": "code",
   "execution_count": 31,
   "metadata": {},
   "outputs": [],
   "source": [
    "i = len(s) - 1\n",
    "j = len(t) - 1\n",
    "lcs = \"\"\n",
    "while dp_table[i][j] > 0:\n",
    "# while i * j != 0:\n",
    "    curr = dp_table[i][j]\n",
    "    left = dp_table[i][j - 1]\n",
    "    up = dp_table[i - 1][j]\n",
    "    if up == curr:\n",
    "        i -= 1\n",
    "    elif left == curr:\n",
    "        j -= 1\n",
    "    else:\n",
    "        lcs += s[i]\n",
    "        i -= 1\n",
    "        j -= 1"
   ]
  },
  {
   "cell_type": "code",
   "execution_count": 32,
   "metadata": {},
   "outputs": [
    {
     "name": "stdout",
     "output_type": "stream",
     "text": [
      "The longest common subsequence between s and t is:  CCGGGTAAGCTTTAACACGTGCCGATGTGGCATGCTCCGCGTTGTCATTCTTTCCTGGAAGTTTTGCTCGCCTCAATTGTAAGGCCTTTCGTCCAGACCGAGCCCAAAGTAAGGGAAGTTATTTATGCACGTAAGGCCCCTACTGTGAGAAACTGCATCCCCTTCCGTACGCAGTGTCACTAGGGTGCAGTTTCCGCCAGAAATAGGTGTGAGGGTGCCCACAACCGAGACACTTTATCTGTAAATTTGCGTAGACGAGCAGGTGCTGAATGCTTATTCCCCTACTCCTCCCCATGGGGCCCATCACCATAGGTTATTTGTCGCACCATCAGCAGGCTGGTTCTATTTACCCGCAGCGGAAAGACCACCCGTTGGGGAGAGTGTTAATATGAGCATCCCGGCAACTCACCTCTCCATATTCAAACCGTGGGAGGACCAGCTCATCTCCGAACTGCAGCCTCCACGTGGGTTGTGGCTAGCTCAACTTGATTTGGAGTACGGGCCCTCAGACCTAAATAGTCTATGTAGACGGTTGACGCGCGTAGCTGAGGAGCTGACGGACACCAACAACTACTAGGTCAAACCGTCCATTCGCCTTTTATTAGACAGGCTA\n"
     ]
    }
   ],
   "source": [
    "lcs = lcs[::-1]\n",
    "\n",
    "print(\"The longest common subsequence between s and t is: \", lcs)"
   ]
  },
  {
   "cell_type": "markdown",
   "metadata": {},
   "source": [
    "## Problem Solved!"
   ]
  },
  {
   "cell_type": "code",
   "execution_count": null,
   "metadata": {},
   "outputs": [],
   "source": []
  }
 ],
 "metadata": {
  "kernelspec": {
   "display_name": "Python 3",
   "language": "python",
   "name": "python3"
  },
  "language_info": {
   "codemirror_mode": {
    "name": "ipython",
    "version": 3
   },
   "file_extension": ".py",
   "mimetype": "text/x-python",
   "name": "python",
   "nbconvert_exporter": "python",
   "pygments_lexer": "ipython3",
   "version": "3.7.4"
  }
 },
 "nbformat": 4,
 "nbformat_minor": 4
}
