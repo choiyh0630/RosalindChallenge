{
 "cells": [
  {
   "cell_type": "markdown",
   "metadata": {},
   "source": [
    "# Maximum Matchings and RNA Secondary Structures"
   ]
  },
  {
   "cell_type": "markdown",
   "metadata": {},
   "source": [
    "## Background Info"
   ]
  },
  {
   "cell_type": "markdown",
   "metadata": {},
   "source": [
    "Every possible nucleotide is involved in base pairing to induce an RNA secondary structure. In this problem, we will try to obtain the total number of secondary structures of a strand having a maximum possible number of base pairs."
   ]
  },
  {
   "cell_type": "markdown",
   "metadata": {},
   "source": [
    "## Problem"
   ]
  },
  {
   "cell_type": "markdown",
   "metadata": {},
   "source": [
    "If we have an RNA string $s$ that does NOT have the same number of occurrences of 'C' (Cytosine) as 'G' (Guanine) and the same number of occurrences of 'A' (Adenine) as 'U' (Uracil), then the bonding graph of $s$ cannot possibly possess a perfect matching among its basepair edges. Therefore, we define a **maximum matching** in a graph as a matching containing as many edges as possible. A maximum matching of basepair edges will correspond to a way of forming as many base pairs as possible in an RNA string.\n",
    "* **bonding graph**: A graph whose nodes represent the symbols of a given RNA string $s$ arranged in order around a circle and whose edges are divided into 2 sets: solid adjacency edges (connecting adjacent nucleotides) and dashed basepair edges (connecting all base pairs).\n",
    "* **perfect matching**: A matching that includes every node in the graph. A graph must contain an even total number of nodes to have a perfect matching.\n",
    "* **basepair edge**: Edges in the bonding graph of an RNA string connecting potential base pairs."
   ]
  },
  {
   "cell_type": "markdown",
   "metadata": {},
   "source": [
    "**Given**: An RNA string $s$ of length at most 100.<br>\n",
    "**Return**: The total possible number of maximum matchings of basepair edges in the bonding graph of $s$."
   ]
  },
  {
   "cell_type": "markdown",
   "metadata": {},
   "source": [
    "## Solution Explanation"
   ]
  },
  {
   "cell_type": "markdown",
   "metadata": {},
   "source": [
    "The question is asking for the total possible number of maximum matchings of basepair edges in the bodning graph of a given $s$. Basically, it's asking for the all the possible **number of ways** that we can form maximum matchings. For example, if the given $s$ is 'AUGCUUC', then the answer would be 6, because there are 6 possible ways of forming the maximum matchings in the bonding graph of $s$. \n",
    "\n",
    "Here's why:<br>\n",
    "For A, there are 3 U's that it can pair with. For G, there are 2 C's that it can pair with. Then, we can say that there are $3 \\times 2 = 6$ number of ways that we can form maximum matchings."
   ]
  },
  {
   "cell_type": "code",
   "execution_count": null,
   "metadata": {},
   "outputs": [],
   "source": []
  }
 ],
 "metadata": {
  "kernelspec": {
   "display_name": "Python 3",
   "language": "python",
   "name": "python3"
  },
  "language_info": {
   "codemirror_mode": {
    "name": "ipython",
    "version": 3
   },
   "file_extension": ".py",
   "mimetype": "text/x-python",
   "name": "python",
   "nbconvert_exporter": "python",
   "pygments_lexer": "ipython3",
   "version": "3.7.4"
  }
 },
 "nbformat": 4,
 "nbformat_minor": 4
}
