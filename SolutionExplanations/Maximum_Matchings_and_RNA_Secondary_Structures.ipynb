{
 "cells": [
  {
   "cell_type": "markdown",
   "metadata": {},
   "source": [
    "# Maximum Matchings and RNA Secondary Structures"
   ]
  },
  {
   "cell_type": "markdown",
   "metadata": {},
   "source": [
    "## Background Info"
   ]
  },
  {
   "cell_type": "markdown",
   "metadata": {},
   "source": [
    "Every possible nucleotide is involved in base pairing to induce an RNA secondary structure. In this problem, we will try to obtain the total number of secondary structures of a strand having a maximum possible number of base pairs."
   ]
  },
  {
   "cell_type": "markdown",
   "metadata": {},
   "source": [
    "## Problem"
   ]
  },
  {
   "cell_type": "markdown",
   "metadata": {},
   "source": [
    "If we have an RNA string $s$ that does NOT have the same number of occurrences of 'C' (Cytosine) as 'G' (Guanine) and the same number of occurrences of 'A' (Adenine) as 'U' (Uracil), then the bonding graph of $s$ cannot possibly possess a perfect matching among its basepair edges. Therefore, we define a **maximum matching** in a graph as a matching containing as many edges as possible. A maximum matching of basepair edges will correspond to a way of forming as many base pairs as possible in an RNA string.\n",
    "* **bonding graph**: A graph whose nodes represent the symbols of a given RNA string $s$ arranged in order around a circle and whose edges are divided into 2 sets: solid adjacency edges (connecting adjacent nucleotides) and dashed basepair edges (connecting all base pairs).\n",
    "* **perfect matching**: A matching that includes every node in the graph. A graph must contain an even total number of nodes to have a perfect matching.\n",
    "* **basepair edge**: Edges in the bonding graph of an RNA string connecting potential base pairs."
   ]
  },
  {
   "cell_type": "markdown",
   "metadata": {},
   "source": [
    "**Given**: An RNA string $s$ of length at most 100.<br>\n",
    "**Return**: The total possible number of maximum matchings of basepair edges in the bonding graph of $s$."
   ]
  },
  {
   "cell_type": "markdown",
   "metadata": {},
   "source": [
    "## Solution Explanation"
   ]
  },
  {
   "cell_type": "markdown",
   "metadata": {},
   "source": [
    "The question is asking for the total possible number of maximum matchings of basepair edges in the bodning graph of a given $s$. Basically, it's asking for the all the possible **number of ways** that we can form maximum matchings. For example, if the given $s$ is 'AUGCUUC', then the answer would be 6, because there are 6 possible ways of forming the maximum matchings in the bonding graph of $s$. \n",
    "\n",
    "Here's why:<br>\n",
    "For A, there are 3 U's that it can pair with. For G, there are 2 C's that it can pair with. Then, we can say that there are $3 \\times 2 = 6$ number of ways that we can form maximum matchings. Then, we can say that the total number of possible ways to form maximum matchings is: $(n_A \\times n_U) \\times (n_G \\times n_C)$, where $n_x$ is the number of nucleotide $x$."
   ]
  },
  {
   "cell_type": "code",
   "execution_count": 6,
   "metadata": {},
   "outputs": [],
   "source": [
    "def total_number_of_ways(rna):\n",
    "    au_pairs = get_number_of_pairs(rna, 'AU')\n",
    "    gc_pairs = get_number_of_pairs(rna, 'GC')\n",
    "    if au_pairs == 0 and gc_pairs == 0:\n",
    "        return 0\n",
    "    if au_pairs == 0:\n",
    "        au_pairs = 1\n",
    "    if gc_pairs == 0:\n",
    "        gc_pairs = 1\n",
    "    return au_pairs * gc_pairs\n",
    "\n",
    "def get_number_of_pairs(rna, nuc_pair):\n",
    "    if nuc_pair == 'AU':\n",
    "        n_purine = get_number_of_nuc(rna, 'A')\n",
    "        n_pyrimidine = get_number_of_nuc(rna, 'U')\n",
    "    elif nuc_pair == 'GC':\n",
    "        n_purine = get_number_of_nuc(rna, 'G')\n",
    "        n_pyrimidine = get_number_of_nuc(rna, 'C')\n",
    "    bigger = max(n_purine, n_pyrimidine)\n",
    "    smaller = min(n_purine, n_pyrimidine)\n",
    "    return comb(bigger, smaller) * factorial(smaller)\n",
    "\n",
    "def get_number_of_nuc(rna, nucleotide):\n",
    "    count = 0\n",
    "    for nuc in rna:\n",
    "        if nuc == nucleotide:\n",
    "            count += 1\n",
    "    return count\n",
    "\n",
    "def comb(n1, n2):\n",
    "    return int(factorial(n1) / (factorial(n2) * factorial(n1-n2)))\n",
    "\n",
    "def factorial(n):\n",
    "    res = 1\n",
    "    for i in range(2, n+1):\n",
    "        res *= i\n",
    "    return res"
   ]
  },
  {
   "cell_type": "code",
   "execution_count": 7,
   "metadata": {},
   "outputs": [
    {
     "data": {
      "text/plain": [
       "6"
      ]
     },
     "execution_count": 7,
     "metadata": {},
     "output_type": "execute_result"
    }
   ],
   "source": [
    "rna_ex = 'AUGCUUC'\n",
    "total_number_of_ways(rna_ex)"
   ]
  },
  {
   "cell_type": "code",
   "execution_count": null,
   "metadata": {},
   "outputs": [],
   "source": []
  }
 ],
 "metadata": {
  "kernelspec": {
   "display_name": "Python 3",
   "language": "python",
   "name": "python3"
  },
  "language_info": {
   "codemirror_mode": {
    "name": "ipython",
    "version": 3
   },
   "file_extension": ".py",
   "mimetype": "text/x-python",
   "name": "python",
   "nbconvert_exporter": "python",
   "pygments_lexer": "ipython3",
   "version": "3.7.4"
  }
 },
 "nbformat": 4,
 "nbformat_minor": 4
}
