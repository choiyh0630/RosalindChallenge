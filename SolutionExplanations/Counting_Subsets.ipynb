{
 "cells": [
  {
   "cell_type": "markdown",
   "metadata": {},
   "source": [
    "# Counting Subsets"
   ]
  },
  {
   "cell_type": "markdown",
   "metadata": {},
   "source": [
    "## Background Info"
   ]
  },
  {
   "cell_type": "markdown",
   "metadata": {},
   "source": [
    "* **Character**: Any feature (genetic, physical) that divides a collection of organisms into 2 separate groups. One commonly used genetic chracter is the possession of a single-nucleotide polymorphism (SNP).\n",
    "* **Genotyping**: A process of comparing genetic markers (i.e., alleles) taken from a large number of members of the same species to obtain a more complete picture of that species's phylogeny. An allelic marker may be represented by an SNP or a microsatellite.\n",
    "\n",
    "Whether we use genetic or physical characters, we can think of a collection of $n$ characters as a collection of ON/OFF switches."
   ]
  },
  {
   "cell_type": "markdown",
   "metadata": {},
   "source": [
    "## Problem"
   ]
  },
  {
   "cell_type": "markdown",
   "metadata": {},
   "source": [
    "### Terminologies\n",
    "* **Set**: The mathematical term for a loose collection of objects, called elements. The ordering of the elements in the sets is unimportant. Sets are not allowed to contain duplicate elements.\n",
    "\n",
    "We can use subsets to represent the collection of taxa possessing a character."
   ]
  },
  {
   "cell_type": "markdown",
   "metadata": {},
   "source": [
    "## Aim of the problem\n",
    "To count the total number of possible subsets of a given set."
   ]
  },
  {
   "cell_type": "markdown",
   "metadata": {},
   "source": [
    "**Given**: A positive integer $n$ ($n \\le 1000)$,<br>\n",
    "**Return**: The total number of subsets of $\\{1,2,...,n\\}$ % $1000000$"
   ]
  },
  {
   "cell_type": "markdown",
   "metadata": {},
   "source": [
    "## Solution Explanation"
   ]
  },
  {
   "cell_type": "markdown",
   "metadata": {},
   "source": [
    "Let's say:<br>\n",
    "$n$ = Number of elements in a set <br>\n",
    "$a_n$ = Total number of subsets of a set with $n$ elements<br>\n",
    "$b_n$ = $a_n$ % $10^6$<br>"
   ]
  },
  {
   "cell_type": "markdown",
   "metadata": {},
   "source": [
    "Suppose we know $a_{n-1}$. The recursive equation is $a_n = 2a_{n-1}$ because for each subset from a set of $n-1$, we have the choice of either including the $n$th element in that set or not. The base case can then be established as $a_0 = 1$, since an empty set is still a set."
   ]
  },
  {
   "cell_type": "markdown",
   "metadata": {},
   "source": [
    "By recursion, we can now conclude that $a_n = 2^n$."
   ]
  },
  {
   "cell_type": "code",
   "execution_count": 7,
   "metadata": {},
   "outputs": [],
   "source": [
    "def b(n):\n",
    "    if n == 0:\n",
    "        return 1\n",
    "    return 2*b(n-1) % 10**6 # Mod 10^6 was taken in this step to avoid overflow"
   ]
  },
  {
   "cell_type": "markdown",
   "metadata": {},
   "source": [
    "## Actual Dataset"
   ]
  },
  {
   "cell_type": "code",
   "execution_count": 8,
   "metadata": {},
   "outputs": [],
   "source": [
    "n = 973"
   ]
  },
  {
   "cell_type": "code",
   "execution_count": 9,
   "metadata": {},
   "outputs": [
    {
     "name": "stdout",
     "output_type": "stream",
     "text": [
      "The total number of subsets of a set with 973 elements: 115392\n"
     ]
    }
   ],
   "source": [
    "print(f'The total number of subsets of a set with {n} elements: {b(n)}')"
   ]
  },
  {
   "cell_type": "markdown",
   "metadata": {},
   "source": [
    "## Problem solved!"
   ]
  }
 ],
 "metadata": {
  "kernelspec": {
   "display_name": "Python 3",
   "language": "python",
   "name": "python3"
  },
  "language_info": {
   "codemirror_mode": {
    "name": "ipython",
    "version": 3
   },
   "file_extension": ".py",
   "mimetype": "text/x-python",
   "name": "python",
   "nbconvert_exporter": "python",
   "pygments_lexer": "ipython3",
   "version": "3.7.4"
  }
 },
 "nbformat": 4,
 "nbformat_minor": 4
}
