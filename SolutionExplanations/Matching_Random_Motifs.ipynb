{
 "cells": [
  {
   "cell_type": "markdown",
   "metadata": {},
   "source": [
    "# Matching Random Motifs"
   ]
  },
  {
   "cell_type": "markdown",
   "metadata": {},
   "source": [
    "## Background Info"
   ]
  },
  {
   "cell_type": "markdown",
   "metadata": {},
   "source": [
    "* Promoter: Regions of DNA that initiate the transcription of a gene. It's usually located shortly before the start of its gene, and it contains specific intervals of DNA that provide an initial binding site for RNA polymerase to initiate transcription. Finding a promoter is usually the second step in gene prediction after establishing the presence of an ORF (Open Reading Frame)."
   ]
  },
  {
   "cell_type": "markdown",
   "metadata": {},
   "source": [
    "There's no quick rule for identifying promoters as they vary by species (additional intervals used to bind to specific proteins or to change the intensity of transcription). Most eukaryotic promoters are harder to characterize; they have a TATA box, preceded by an interval called a B recognition element (BRE), typically located within 40 bp of the start of transcription, and can hold additional \"regulatory\" intervals.\n"
   ]
  },
  {
   "cell_type": "markdown",
   "metadata": {},
   "source": [
    "## Aim of problem"
   ]
  },
  {
   "cell_type": "markdown",
   "metadata": {},
   "source": [
    "To determine the probability with which a given motif (ex. promoter) occurs in a randomly constructed genome.\n",
    "* Hint: For any event = $P(A) + P(A^c) = 1$"
   ]
  },
  {
   "cell_type": "markdown",
   "metadata": {},
   "source": [
    "## Problem"
   ]
  },
  {
   "cell_type": "markdown",
   "metadata": {},
   "source": [
    "* **Given**: A positive integer $N$ <= 100000, a number $x$ between 0 and 1, and a DNA string $s$ of length at most 10 bp.\n",
    "* **Return**: The probability that if $N$ random DNA strings having the same length as $s$ are constructed with GC-content $x$, then at least one of the strings equals s. Same random string can be created more than once."
   ]
  },
  {
   "cell_type": "markdown",
   "metadata": {},
   "source": [
    "## Solution Explanation"
   ]
  },
  {
   "cell_type": "markdown",
   "metadata": {},
   "source": [
    "We want $P(\\text{at least 1 s in N sequences})$. Using the hint given in the Aim section, we can solve the problem by the following:\n",
    "<br><br>\n",
    "\\begin{equation} \n",
    "P(\\text{at least 1 s in N sequences}) = 1 - P(\\text{no s in N sequences}), \\text{where} \\\\\n",
    "P(\\text{no s in N sequences}) = P(\\text{no s})^N, \\text{where} \\\\\n",
    "P(\\text{no s}) = 1 - P(s)\n",
    "\\end{equation}"
   ]
  },
  {
   "cell_type": "markdown",
   "metadata": {},
   "source": [
    "Based on this, we can conclude that<br>\n",
    "\\begin{equation}\n",
    "P(\\text{at least 1 s in N sequences}) = 1 - (1 - P(s))^N\n",
    "\\end{equation}"
   ]
  },
  {
   "cell_type": "markdown",
   "metadata": {},
   "source": [
    "Now, let's calculate $P(s)$ by implementing a function, as shown below."
   ]
  },
  {
   "cell_type": "code",
   "execution_count": 1,
   "metadata": {},
   "outputs": [],
   "source": [
    "def prob_s(s, x):\n",
    "    p = 1\n",
    "    p_gc = x/2\n",
    "    p_at = (1 - x)/2\n",
    "    for i in s:\n",
    "        if i == 'A' or i == 'T':\n",
    "            p *= p_at\n",
    "        else:\n",
    "            p *= p_gc\n",
    "    return p"
   ]
  },
  {
   "cell_type": "markdown",
   "metadata": {},
   "source": [
    "Now that we've implemented the function to calculate $P(s)$, we can obtain $P(\\text{at least 1 s in N sequences})$. Let's try if we get the correct answer by using the example values given in Rosalind."
   ]
  },
  {
   "cell_type": "code",
   "execution_count": 6,
   "metadata": {},
   "outputs": [],
   "source": [
    "x = 0.6\n",
    "s = 'ATAGCCGA'\n",
    "N = 90000"
   ]
  },
  {
   "cell_type": "code",
   "execution_count": 8,
   "metadata": {},
   "outputs": [
    {
     "name": "stdout",
     "output_type": "stream",
     "text": [
      "0.6885160784606543\n"
     ]
    }
   ],
   "source": [
    "print(1- (1-prob_s(s, x))**N)"
   ]
  },
  {
   "cell_type": "markdown",
   "metadata": {},
   "source": [
    "We get 0.689, which is the correct answer!"
   ]
  },
  {
   "cell_type": "markdown",
   "metadata": {},
   "source": [
    "# Actual Dataset"
   ]
  },
  {
   "cell_type": "code",
   "execution_count": 10,
   "metadata": {},
   "outputs": [],
   "source": [
    "x = 0.534174\n",
    "s = 'ACTACCGT'\n",
    "N = 92550"
   ]
  },
  {
   "cell_type": "code",
   "execution_count": 11,
   "metadata": {},
   "outputs": [
    {
     "name": "stdout",
     "output_type": "stream",
     "text": [
      "0.7499282838670328\n"
     ]
    }
   ],
   "source": [
    "print(1- (1-prob_s(s, x))**N)"
   ]
  },
  {
   "cell_type": "markdown",
   "metadata": {},
   "source": [
    "## Problem solved!"
   ]
  },
  {
   "cell_type": "code",
   "execution_count": null,
   "metadata": {},
   "outputs": [],
   "source": []
  }
 ],
 "metadata": {
  "kernelspec": {
   "display_name": "Python 3",
   "language": "python",
   "name": "python3"
  },
  "language_info": {
   "codemirror_mode": {
    "name": "ipython",
    "version": 3
   },
   "file_extension": ".py",
   "mimetype": "text/x-python",
   "name": "python",
   "nbconvert_exporter": "python",
   "pygments_lexer": "ipython3",
   "version": "3.7.4"
  }
 },
 "nbformat": 4,
 "nbformat_minor": 4
}
