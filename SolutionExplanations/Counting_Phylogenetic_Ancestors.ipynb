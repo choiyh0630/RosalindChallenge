{
 "cells": [
  {
   "cell_type": "markdown",
   "metadata": {},
   "source": [
    "# Counting Phylogenetic Ancestors"
   ]
  },
  {
   "cell_type": "markdown",
   "metadata": {},
   "source": [
    "## Background Info"
   ]
  },
  {
   "cell_type": "markdown",
   "metadata": {},
   "source": [
    "A tree can be used to contstruct phylogenies. Modern evolutionary theory indicates that a common way for a new species to be created is when it splits off from an existing species after a population is isolated for an extended period of time. This model of species evolution is a specific type of phylogeny, in which internal nodes represent branching points of evolution where an ancesotr species either:\n",
    "1. evolved into a new species or\n",
    "2. split into 2 new species."
   ]
  },
  {
   "cell_type": "markdown",
   "metadata": {},
   "source": [
    "One edge of this internal node connects the node to its most recent ancestor, whereas one or two new edges connect it to its immediate descendants."
   ]
  },
  {
   "cell_type": "markdown",
   "metadata": {},
   "source": [
    "## Problem"
   ]
  },
  {
   "cell_type": "markdown",
   "metadata": {},
   "source": [
    "### Terminologies\n",
    "* **Binary tree**: A tree in which each node has degree equal to at most 3.\n",
    "* **Rooted tree**: A tree in which one node (the root) is set aside to serve as the pinnacle of the tree. In a rooted tree, every node $v$ will have a single parent, or the unique node $w$ such that the path from $v$ to the root contains $\\{v, w\\}$. Any other node $x$ adjacent to $v$ is a child of $v$ because $v$ must be the parent of $x$.\n",
    "* **Unrooted binary tree**: All internal nodes have degree 3.\n",
    "* **Rooted binary tree**: Only the root has degree 2 and all other internal nodes have degree 3."
   ]
  },
  {
   "cell_type": "markdown",
   "metadata": {},
   "source": [
    "**Given**: A positive integer $n$ $(3 \\le n \\le 10000)$.<br>\n",
    "**Return**: The number of internal nodes of any unrooted binary tree having $n$ leaves.\n",
    "\n",
    "*Hint: A graph with no cycles and $n$ nodes is a tree when it has $n - 1$ edges. This is a theorem of graph theory.*"
   ]
  },
  {
   "cell_type": "markdown",
   "metadata": {},
   "source": [
    "## Solution Explanation"
   ]
  },
  {
   "cell_type": "markdown",
   "metadata": {},
   "source": [
    "Based on Full Binary Tree theorem, if we let T be a nonempty, full binary tree, then if T has I internal nodes, the number of leaves is $L = I + 1$. This theorem applies for rooted full binary trees. Since in this problem, we are given $n \\ (n = L)$, which is the number of leaves, we could obtain the number of internal nodes by calculating $I = n - 1$. However, in this problem, we are talking about unrooted full binary tree. Therefore, since we won't have the root node, we'd have to subtract 1 node; therefore, the number of internal nodes for an unrooted full binary tree would be given by this equation: $I = n - 2$."
   ]
  },
  {
   "cell_type": "markdown",
   "metadata": {},
   "source": [
    "## Alternative Explanation (From Rosalind)"
   ]
  },
  {
   "cell_type": "markdown",
   "metadata": {},
   "source": [
    "For any graph (including trees), the sum of the vertex degrees is double the number of edges (since each edge is counted twice, because it has two nodes). \n",
    "\n",
    "Also, any tree with $N$ nodes has $N−1$ edges (as stated in the hint for this problem).\n",
    "\n",
    "If $I$ is the number of internal nodes (all of which have vertex degree 3 since the tree is an unrooted binary tree) and $n$ is the number of leaves (a leaf has vertex degree 1), then the two results above imply:\n",
    "<br>\n",
    "\n",
    "$\\text{sum of vertex degrees} = 2*\\text{number of edges}$, where\n",
    "$\\text{number of edges} = N - 1 = (I+n) - 1$<br><br>\n",
    "Therefore, we can write: <br>\n",
    "$3I+n=2((I+n)−1)$\n",
    "\n",
    "Solving for $I$, that means $I=n−2$, thus there are $n−2$ internal nodes."
   ]
  },
  {
   "cell_type": "markdown",
   "metadata": {},
   "source": [
    "## Actual Dataset"
   ]
  },
  {
   "cell_type": "code",
   "execution_count": 2,
   "metadata": {},
   "outputs": [],
   "source": [
    "n = 9391"
   ]
  },
  {
   "cell_type": "code",
   "execution_count": 3,
   "metadata": {},
   "outputs": [],
   "source": [
    "answer = n - 2"
   ]
  },
  {
   "cell_type": "code",
   "execution_count": 8,
   "metadata": {},
   "outputs": [
    {
     "name": "stdout",
     "output_type": "stream",
     "text": [
      "The number of internal nodes when there are 9391 leaves in an unrooted binary tree is 9389.\n"
     ]
    }
   ],
   "source": [
    "print(f'The number of internal nodes when there are {n} leaves in an unrooted binary tree is {answer}.')"
   ]
  }
 ],
 "metadata": {
  "kernelspec": {
   "display_name": "Python 3",
   "language": "python",
   "name": "python3"
  },
  "language_info": {
   "codemirror_mode": {
    "name": "ipython",
    "version": 3
   },
   "file_extension": ".py",
   "mimetype": "text/x-python",
   "name": "python",
   "nbconvert_exporter": "python",
   "pygments_lexer": "ipython3",
   "version": "3.7.4"
  }
 },
 "nbformat": 4,
 "nbformat_minor": 4
}
