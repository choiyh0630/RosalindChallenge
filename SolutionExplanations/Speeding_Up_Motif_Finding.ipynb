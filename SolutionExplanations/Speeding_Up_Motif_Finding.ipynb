{
 "cells": [
  {
   "cell_type": "markdown",
   "metadata": {},
   "source": [
    "# Speeding Up Motif Finding"
   ]
  },
  {
   "cell_type": "markdown",
   "metadata": {},
   "source": [
    "## Background Info"
   ]
  },
  {
   "cell_type": "markdown",
   "metadata": {},
   "source": [
    "### Shortening the Motif Search"
   ]
  },
  {
   "cell_type": "markdown",
   "metadata": {},
   "source": [
    "* **Knuth-Morris-Pratt Algorithm**: An algorithm for motif finding first published in 1977. It improved on the naive \"sliding window\" approach to finding a motif by introducing the **failure array**.\n",
    "* **Failure Array**: A failure array (often called a failure function) is an array employed in the KMP algorithm to speed up motif finding in strings. Specifically, given a string $s$, its failure array $P$ is constructed so that $P[k]$ is equal to the length of the longest substring of $s$ ending at $k$ that isn't a prefix but is equal to some prefix $s[1:i]$, where $i$ must be less than $k$. For example, given the string \"CAGTAAGCAGGGACTG\", its failure array is given by $[0000000123000100]$.\n",
    "\n",
    "Because of the large scale of eukaryotic genomes, we need to search a genome for a known motif as efficiently as possible. The standard method for locating one string $t$ as a substring of another string $s$ is to move a sliding window across the larger string, at each step starting at $s[k]$ and matching subsequent symbols of $t$ to symbols of $s$. After we have located a match or mismatch, we then shift the window backwards to begin searching at $s[k+1]$. The potential weakness of this method is that, for example, if we have matched 100 symbols of $t$ to $s$ before reaching a mismatch, we would then have to move back 99 symbols of $s$ and start comparing $t$ to $s$. To avoid this kind of sliding, we can explore the **Knuth-Morris-Pratt algorithm (KMP)**, which offers an efficiency boost for determining whether a given motif can be located within a larger string."
   ]
  },
  {
   "cell_type": "markdown",
   "metadata": {},
   "source": [
    "## Problem"
   ]
  },
  {
   "cell_type": "markdown",
   "metadata": {},
   "source": [
    "A prefix of a length $n$ string $s$ is a substring $s[1:j]$. A suffix of $s$ is a substring $s[k:n]$. The failure array of $s$ is an array $P$ of length $n$ for which $P[k]$ is the length of the longest substring $s[j:k]$ that is equal to some prefix $s[1:k-j+1]$ where $j \\neq 1$. Otherwise, $P[k]$ would always equal $k$. By convention, $P[1] = 0$."
   ]
  },
  {
   "cell_type": "markdown",
   "metadata": {},
   "source": [
    "**Given**: A DNA string $s$ in FASTA format.<br>\n",
    "**Return**: The failure array of $s$."
   ]
  },
  {
   "cell_type": "code",
   "execution_count": null,
   "metadata": {},
   "outputs": [],
   "source": []
  }
 ],
 "metadata": {
  "kernelspec": {
   "display_name": "Python 3",
   "language": "python",
   "name": "python3"
  },
  "language_info": {
   "codemirror_mode": {
    "name": "ipython",
    "version": 3
   },
   "file_extension": ".py",
   "mimetype": "text/x-python",
   "name": "python",
   "nbconvert_exporter": "python",
   "pygments_lexer": "ipython3",
   "version": "3.7.4"
  }
 },
 "nbformat": 4,
 "nbformat_minor": 4
}
