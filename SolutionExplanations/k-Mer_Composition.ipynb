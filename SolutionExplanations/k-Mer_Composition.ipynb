{
 "cells": [
  {
   "cell_type": "markdown",
   "metadata": {},
   "source": [
    "# k-Mer Composition"
   ]
  },
  {
   "cell_type": "markdown",
   "metadata": {},
   "source": [
    "## Background Info"
   ]
  },
  {
   "cell_type": "markdown",
   "metadata": {},
   "source": [
    "* **k-mer:** A length k substring of a genetic string.\n",
    "* **k-mer composition:** The k-mer composition of a string $s$ encodes the number of times that each possible k-mer occurs in $s$.\n",
    "* **exon:** A contiguous segment of RNA converted to mRNA for protein translation.\n",
    "* **fragment assembly:** Algorithmic reconstruction of contiguous chromosomes from short fragments of DNA."
   ]
  },
  {
   "cell_type": "markdown",
   "metadata": {},
   "source": [
    "A genetic string of length $n$ can be seen as composed of $n - k + 1$ overlapping k-mers. The 1-mer composition is a generalization of the GC-content of a strand of DNA. The biological significance of a k-mer composition is manyfold. GC-content is helpful not only in helping to identify a piece of unknown DNA, but also because a genomic region having high GC-content compared to the rest of the genome signals that it may belong to an **exon**. Analyzing k-mer composition is vital to **fragment assembly** as well.\n",
    "\n",
    "For larger values of $k$, the k-mer composition offers a more robust fingerprint of a string's identity because it offers an analysis on the scale of substrings (i.e. words) instead of that of single symbols. As a basis of comparison, in language analysis, the k-mer composition of a text can be used not only to pin down the language, but also often the author."
   ]
  },
  {
   "cell_type": "markdown",
   "metadata": {},
   "source": [
    "## Problem"
   ]
  },
  {
   "cell_type": "markdown",
   "metadata": {},
   "source": [
    "For a fixed positive integer $k$, order all possible k-mers taken from an underlying alphabet lexicographically. Then the k-mer composition of a string $s$ can be represented by an array $A$ for which $A[m]$ denotes the number of times that the $m$th k-mer appears in $s$."
   ]
  },
  {
   "cell_type": "markdown",
   "metadata": {},
   "source": [
    "**Given:** A DNA string $s$ in FASTA format.<br>\n",
    "**Return:** The 4-mer composition of $s$."
   ]
  },
  {
   "cell_type": "markdown",
   "metadata": {},
   "source": [
    "## Solution Explanation"
   ]
  },
  {
   "cell_type": "markdown",
   "metadata": {},
   "source": [
    "1. Quaternary (base-4) numeral system can be used to represent the 4-mer substrings, where the quaternary numerals would be the indices of the 4-mers laid out in lexicographical order in an array. For example, AAAA can be converted to 0000 in quaternary numeral systems; TCGA would be 3121 in quaternary numeral system.\n",
    "2. Apply sliding window to count the number of all the 4-mer substrings in string $s$."
   ]
  },
  {
   "cell_type": "code",
   "execution_count": 8,
   "metadata": {},
   "outputs": [],
   "source": [
    "from Bio import SeqIO\n",
    "\n",
    "# using read(), not parse() because we're only expecting 1 DNA string; parse() returns an iterator\n",
    "s = SeqIO.read(\"../Sample_k-Mer_Composition.fa\", \"fasta\").seq"
   ]
  },
  {
   "cell_type": "code",
   "execution_count": 6,
   "metadata": {},
   "outputs": [],
   "source": [
    "# takes in the input DNA string s and outputs the 4-mer composition of s as a list\n",
    "def get_4mer_composition(dna):\n",
    "    \n",
    "    # create the 4-mer composition index list\n",
    "    fmer_composition = [0 for i in range(256)]\n",
    "    \n",
    "    # create the dictionary that will help us calculate the quaternary numerals of the 4-mers\n",
    "    nuc_dic = {\"A\": 0, \"C\": 1, \"G\": 2, \"T\": 3}\n",
    "    \n",
    "    # takes in a 4-mer and the nuc_dic dictionary to output the index of the corresponding 4-mer in the 4-mer composition list.\n",
    "    def get_4mer_index(fmer, nuc_mapping):\n",
    "        index = 0\n",
    "        quat_rep = {0: 4**3, 1: 4**2, 2: 4**1, 3: 4**0}\n",
    "        for n in range(len(fmer)):\n",
    "            index += quat_rep[n] * nuc_mapping[fmer[n]]\n",
    "        return index\n",
    "    \n",
    "    # count the number of all occurring 4-mers in the DNA string s, and store the counts in the 4-mer composition list\n",
    "    for m in range(len(dna[:-3])):\n",
    "        current_fmer = dna[m:m+4]\n",
    "        fmer_pos = get_4mer_index(current_fmer, nuc_dic)\n",
    "        fmer_composition[fmer_pos] += 1\n",
    "\n",
    "    return fmer_composition"
   ]
  },
  {
   "cell_type": "code",
   "execution_count": 10,
   "metadata": {},
   "outputs": [
    {
     "name": "stdout",
     "output_type": "stream",
     "text": [
      "[4, 1, 4, 3, 0, 1, 1, 5, 1, 3, 1, 2, 2, 1, 2, 0, 1, 1, 3, 1, 2, 1, 3, 1, 1, 1, 1, 2, 2, 5, 1, 3, 0, 2, 2, 1, 1, 1, 1, 3, 1, 0, 0, 1, 5, 5, 1, 5, 0, 2, 0, 2, 1, 2, 1, 1, 1, 2, 0, 1, 0, 0, 1, 1, 3, 2, 1, 0, 3, 2, 3, 0, 0, 2, 0, 8, 0, 0, 1, 0, 2, 1, 3, 0, 0, 0, 1, 4, 3, 2, 1, 1, 3, 1, 2, 1, 3, 1, 2, 1, 2, 1, 1, 1, 2, 3, 2, 1, 1, 0, 1, 1, 3, 2, 1, 2, 6, 2, 1, 1, 1, 2, 3, 3, 3, 2, 3, 0, 3, 2, 1, 1, 0, 0, 1, 4, 3, 0, 1, 5, 0, 2, 0, 1, 2, 1, 3, 0, 1, 2, 2, 1, 1, 0, 3, 0, 0, 4, 5, 0, 3, 0, 2, 1, 1, 3, 0, 3, 2, 2, 1, 1, 0, 2, 1, 0, 2, 2, 1, 2, 0, 2, 2, 5, 2, 2, 1, 1, 2, 1, 2, 2, 2, 2, 1, 1, 3, 4, 0, 2, 1, 1, 0, 1, 2, 2, 1, 1, 1, 5, 2, 0, 3, 2, 1, 1, 2, 2, 3, 0, 3, 0, 1, 3, 1, 2, 3, 0, 2, 1, 2, 2, 1, 2, 3, 0, 1, 2, 3, 1, 1, 3, 1, 0, 1, 1, 3, 0, 2, 1, 2, 2, 0, 2, 1, 1]\n"
     ]
    }
   ],
   "source": [
    "print(get_4mer_composition(s))"
   ]
  },
  {
   "cell_type": "markdown",
   "metadata": {},
   "source": [
    "## Actual Dataset"
   ]
  },
  {
   "cell_type": "code",
   "execution_count": 12,
   "metadata": {},
   "outputs": [],
   "source": [
    "s = SeqIO.read(\"../rosalind_kmer.fa\", \"fasta\").seq"
   ]
  },
  {
   "cell_type": "code",
   "execution_count": 13,
   "metadata": {},
   "outputs": [
    {
     "name": "stdout",
     "output_type": "stream",
     "text": [
      "[375, 346, 367, 360, 392, 360, 332, 314, 388, 341, 332, 374, 359, 363, 396, 304, 379, 352, 376, 365, 367, 323, 373, 365, 381, 331, 333, 324, 336, 337, 368, 317, 346, 398, 357, 385, 326, 347, 311, 359, 352, 318, 363, 324, 347, 359, 355, 371, 367, 333, 343, 352, 324, 374, 368, 331, 336, 366, 376, 386, 331, 350, 345, 352, 358, 354, 319, 348, 349, 375, 340, 328, 381, 333, 330, 360, 356, 328, 366, 361, 305, 339, 360, 375, 338, 334, 392, 330, 370, 372, 370, 370, 352, 374, 336, 353, 360, 336, 345, 371, 354, 366, 343, 342, 327, 347, 354, 344, 405, 336, 333, 341, 370, 365, 337, 345, 343, 374, 374, 338, 339, 342, 335, 339, 352, 332, 322, 348, 338, 328, 374, 352, 364, 358, 335, 353, 354, 357, 342, 339, 336, 371, 368, 343, 341, 374, 331, 347, 359, 356, 372, 329, 322, 304, 334, 358, 354, 376, 318, 356, 340, 339, 352, 337, 357, 348, 323, 340, 356, 346, 382, 358, 358, 333, 332, 361, 385, 363, 367, 364, 324, 345, 354, 360, 340, 356, 327, 349, 355, 353, 368, 340, 377, 370, 375, 362, 367, 335, 362, 363, 363, 312, 353, 359, 344, 335, 334, 370, 354, 327, 337, 324, 315, 381, 345, 391, 339, 398, 335, 363, 375, 342, 333, 328, 346, 337, 338, 325, 356, 355, 342, 363, 333, 357, 343, 358, 369, 355, 352, 343, 362, 366, 340, 322, 351, 339, 339, 349, 331, 352, 353, 345, 352, 343, 346, 369]\n"
     ]
    }
   ],
   "source": [
    "print(get_4mer_composition(s))"
   ]
  },
  {
   "cell_type": "markdown",
   "metadata": {},
   "source": [
    "## Problem solved!"
   ]
  }
 ],
 "metadata": {
  "kernelspec": {
   "display_name": "Python 3",
   "language": "python",
   "name": "python3"
  },
  "language_info": {
   "codemirror_mode": {
    "name": "ipython",
    "version": 3
   },
   "file_extension": ".py",
   "mimetype": "text/x-python",
   "name": "python",
   "nbconvert_exporter": "python",
   "pygments_lexer": "ipython3",
   "version": "3.7.4"
  }
 },
 "nbformat": 4,
 "nbformat_minor": 4
}
