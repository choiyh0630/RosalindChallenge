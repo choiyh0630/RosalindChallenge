{
 "cells": [
  {
   "cell_type": "markdown",
   "metadata": {},
   "source": [
    "# Error Correction in Reads"
   ]
  },
  {
   "cell_type": "markdown",
   "metadata": {},
   "source": [
    "## Background Info"
   ]
  },
  {
   "cell_type": "markdown",
   "metadata": {},
   "source": [
    "We can assemble a **genome** from a collection of **reads**. Even though genome sequencing was a breakthrough technology, sequencing machines that identify reads still produce errors a substantial percentage of the time, and these errors are unpredictable. It's difficult to determine if the machine has made an error, and where in the read the error has occurred. Therefore, error correction in reads is a vital first step in genome assembly.\n",
    "\n",
    "* **Genome**: The collection of an organism's DNA taken from all its chromosomes.\n",
    "* **Reads**: A substring of a genome used for genome assembly."
   ]
  },
  {
   "cell_type": "markdown",
   "metadata": {},
   "source": [
    "## Problem"
   ]
  },
  {
   "cell_type": "markdown",
   "metadata": {},
   "source": [
    "As is the case with point mutations, the most common type of sequencing error occurs when a single nucleotide frmo a read is interpreted incorrectly."
   ]
  },
  {
   "cell_type": "markdown",
   "metadata": {},
   "source": [
    "**Given**: A collection of up to 1000 reads of equal length in FASTA format. Some of these reads were generated with a single-nucleotide error. For each read $s$ in the dataset, one of the following applies:\n",
    "\n",
    "* $s$ was correctly sequenced and appears in the dataset at least twice (possibly as a reverse complement).\n",
    "* $s$ is incorrect, it appears in the dataset exactly once, and its Hamming distance is 1 with respect to exactly one correct read in the dataset (or its reverse complement).\n",
    "\n",
    "**Return**: A list of all corrections in the form \"[old read] --> [new read]\". (Each correction must be a single symbol subsitution)."
   ]
  },
  {
   "cell_type": "markdown",
   "metadata": {},
   "source": [
    "## Solution Explaination"
   ]
  },
  {
   "cell_type": "markdown",
   "metadata": {},
   "source": [
    "It was really helpful for me to read the definition of an incorrect read very closely to get the right answer. The problem says:\n",
    "* $s$ is incorrect, it appears in the dataset exactly once, and its Hamming distance is 1 with respect to exactly one **correct read** in the dataset (or its reverse complement), <br> **<i>NOT** \n",
    "* $s$ is incorrect, it appears in the dataset exactly once, and its Hamming distance is 1 with respect to exactly **one read** in the dataset (or its reverse complement).\n",
    "    \n",
    "With that in mind, the steps to solving this problem is as follows:\n",
    "1. Collect all the **correct** reads.\n",
    "    1. Select all the reads that appear at least twice in the original FASTA file.\n",
    "    2.1. Create reverse complements of all reads in the FASTA file.\n",
    "    2.2. Select all reads that appear in both the FASTA file and in the reverse complement reads list.\n",
    "2. Get the reverse complement reads that belong to all of the correct reads.\n",
    "3. For each read in the FASTA file, check if there's a read that has a point mutation (Hamming Distance = 1) when compared to a correct read."
   ]
  },
  {
   "cell_type": "markdown",
   "metadata": {},
   "source": [
    "First, read in the FASTA file to create a dictionary of 'sequence ID: read', where sequence ID is the key and read is the corresponding value."
   ]
  },
  {
   "cell_type": "code",
   "execution_count": 11,
   "metadata": {},
   "outputs": [],
   "source": [
    "from collections import Counter # import Counter for later use"
   ]
  },
  {
   "cell_type": "code",
   "execution_count": 5,
   "metadata": {},
   "outputs": [
    {
     "data": {
      "text/plain": [
       "{'Rosalind_52': 'TCATC',\n",
       " 'Rosalind_44': 'TTCAT',\n",
       " 'Rosalind_68': 'TCATC',\n",
       " 'Rosalind_28': 'TGAAA',\n",
       " 'Rosalind_95': 'GAGGA',\n",
       " 'Rosalind_66': 'TTTCA',\n",
       " 'Rosalind_33': 'ATCAA',\n",
       " 'Rosalind_21': 'TTGAT',\n",
       " 'Rosalind_18': 'TTTCC'}"
      ]
     },
     "execution_count": 5,
     "metadata": {},
     "output_type": "execute_result"
    }
   ],
   "source": [
    "f = open('../Sample_Error_Correction_in_Reads.txt', 'r')\n",
    "l = f.read().splitlines()\n",
    "d = {}\n",
    "for i in l:\n",
    "    if i.startswith('>'):\n",
    "        d[i[1:]] = ''\n",
    "        key = i[1:]\n",
    "    else:\n",
    "        d[key] = i\n",
    "\n",
    "d"
   ]
  },
  {
   "cell_type": "markdown",
   "metadata": {},
   "source": [
    "Next, let's create the functions to calculate the Hamming Distance, and to create reverse complements of reads."
   ]
  },
  {
   "cell_type": "code",
   "execution_count": 6,
   "metadata": {},
   "outputs": [],
   "source": [
    "# calculates the Hamming Distance\n",
    "def get_Hamming_Distance(read1, read2):\n",
    "    dist = 0\n",
    "    #read1 and read2 are of equal length as specified in the problem\n",
    "    for i in range(len(read1)):\n",
    "        if read1[i] != read2[i]:\n",
    "            dist += 1\n",
    "    return dist\n",
    "\n",
    "# outputs the reverse complement of the input read\n",
    "def get_rev_comp(read):\n",
    "    rev_comp = ''\n",
    "    for i in read[::-1]:\n",
    "        if i == 'A':\n",
    "            rev_comp += 'T'\n",
    "        elif i == 'T':\n",
    "            rev_comp += 'A'\n",
    "        elif i == 'G':\n",
    "            rev_comp += 'C'\n",
    "        else:\n",
    "            rev_comp += 'G'\n",
    "    return rev_comp"
   ]
  },
  {
   "cell_type": "markdown",
   "metadata": {},
   "source": [
    "Finally, the *get_error_corrections* function outputs a dictionary where the key is the old read that contains the point mutation and the value is the actual correct read."
   ]
  },
  {
   "cell_type": "code",
   "execution_count": 15,
   "metadata": {},
   "outputs": [],
   "source": [
    "def get_error_corrections(reads_dic):\n",
    "    corrections_result = {}\n",
    "    original_reads = [read for read in reads_dic.values()]\n",
    "    correct_reads_dic = get_correct_reads(original_reads)\n",
    "    correct_reads_lst = list(correct_reads_dic.keys()) + list(correct_reads_dic.values())\n",
    "\n",
    "    # for each original read, check with all the correct reads to see if it's an incorrect read that has a single nucleotide mutation\n",
    "    for read in correct_reads_lst:\n",
    "        for original_read in original_reads:\n",
    "            if is_Hamming_Distance_1(read, original_read):\n",
    "                corrections_result[original_read] = read\n",
    "    return corrections_result\n",
    "\n",
    "\n",
    "# definition of a correct read = appears at least twice in the dataset, possibly as a reverse complement => get all the duplicates in the dataset\n",
    "# input: a list that contains only the original reads\n",
    "# output: a dictionary with a key: value pair of 'original read that are correct: its reverse complement'\n",
    "def get_correct_reads(original_reads_lst):\n",
    "    duplicates_in_original = {k: get_rev_comp(k) for k,v in Counter(original_reads_lst).items() if v > 1}\n",
    "    rev_comp_lst = [get_rev_comp(read) for read in original_reads_lst]\n",
    "\n",
    "    for read in original_reads_lst:\n",
    "        for i in range(len(rev_comp_lst)):\n",
    "            if read == rev_comp_lst[i]:\n",
    "                duplicates_in_original[read] = original_reads_lst[i]\n",
    "\n",
    "    return duplicates_in_original\n",
    "\n",
    "\n",
    "# returns True if the Hamming Distance between read1 and read2 is 1\n",
    "def is_Hamming_Distance_1(read1, read2):\n",
    "    dist = get_Hamming_Distance(read1, read2)\n",
    "\n",
    "    if dist == 1:\n",
    "        return True\n",
    "    return False\n",
    "\n"
   ]
  },
  {
   "cell_type": "code",
   "execution_count": 14,
   "metadata": {},
   "outputs": [
    {
     "data": {
      "text/plain": [
       "{'TTTCC': 'TTTCA', 'TTCAT': 'TTGAT', 'GAGGA': 'GATGA'}"
      ]
     },
     "execution_count": 14,
     "metadata": {},
     "output_type": "execute_result"
    }
   ],
   "source": [
    "get_error_corrections(d)"
   ]
  },
  {
   "cell_type": "markdown",
   "metadata": {},
   "source": [
    "## Actual Dataset"
   ]
  },
  {
   "cell_type": "code",
   "execution_count": 17,
   "metadata": {},
   "outputs": [],
   "source": [
    "f = open('../rosalind_corr.txt', 'r')\n",
    "l = f.read().splitlines()\n",
    "d = {}\n",
    "for i in l:\n",
    "    if i.startswith('>'):\n",
    "        d[i[1:]] = ''\n",
    "        key = i[1:]\n",
    "    else:\n",
    "        d[key] = i"
   ]
  },
  {
   "cell_type": "code",
   "execution_count": 22,
   "metadata": {},
   "outputs": [
    {
     "name": "stdout",
     "output_type": "stream",
     "text": [
      "The first 5 old read -> new read pairs from the output: \n",
      "GATAATGCGTTCAATGCTTGCATCTTCGTACAGCATCTCGGAGTATAGAA->GATAATGCGTTCAATGCTTACATCTTCGTACAGCATCTCGGAGTATAGAA\n",
      "GATAATGCGTTCAATGCTTACATCTTCGTATAGCATCTCGGAGTATAGAA->GATAATGCGTTCAATGCTTACATCTTCGTACAGCATCTCGGAGTATAGAA\n",
      "GATAATGCGTTCAATGCTTACATCTTCGTACAGCATCTCGGAGCATAGAA->GATAATGCGTTCAATGCTTACATCTTCGTACAGCATCTCGGAGTATAGAA\n",
      "GTTTACTCTGGCAGCAGACAGGACCGAGATAATGCGTTCAATGCTTACAT->GTTTACTCTTGCAGCAGACAGGACCGAGATAATGCGTTCAATGCTTACAT\n",
      "GTTTACTCTTGCAGCAGACAGGACCGAGATTATGCGTTCAATGCTTACAT->GTTTACTCTTGCAGCAGACAGGACCGAGATAATGCGTTCAATGCTTACAT\n"
     ]
    }
   ],
   "source": [
    "print('The first 5 old read -> new read pairs from the output: ')\n",
    "for old, new in list(get_error_corrections(d).items())[:5]:\n",
    "    print(old + \"->\" + new)"
   ]
  },
  {
   "cell_type": "markdown",
   "metadata": {},
   "source": [
    "## Problem Solved!"
   ]
  }
 ],
 "metadata": {
  "kernelspec": {
   "display_name": "Python 3",
   "language": "python",
   "name": "python3"
  },
  "language_info": {
   "codemirror_mode": {
    "name": "ipython",
    "version": 3
   },
   "file_extension": ".py",
   "mimetype": "text/x-python",
   "name": "python",
   "nbconvert_exporter": "python",
   "pygments_lexer": "ipython3",
   "version": "3.7.4"
  }
 },
 "nbformat": 4,
 "nbformat_minor": 4
}
