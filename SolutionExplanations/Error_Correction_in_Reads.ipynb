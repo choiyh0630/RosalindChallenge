{
 "cells": [
  {
   "cell_type": "markdown",
   "metadata": {},
   "source": [
    "# Error Correction in Reads"
   ]
  },
  {
   "cell_type": "markdown",
   "metadata": {},
   "source": [
    "## Background Info"
   ]
  },
  {
   "cell_type": "markdown",
   "metadata": {},
   "source": [
    "We can assemble a **genome** from a collection of **reads**. Even though genome sequencing was a breakthrough technology, sequencing machines that identify reads still produce errors a substantial percentage of the time, and these errors are unpredictable. It's difficult to determine if the machine has made an error, and where in the read the error has occurred. Therefore, error correction in reads is a vital first step in genome assembly.\n",
    "\n",
    "* **Genome**: The collection of an organism's DNA taken from all its chromosomes.\n",
    "* **Reads**: A substring of a genome used for genome assembly."
   ]
  },
  {
   "cell_type": "markdown",
   "metadata": {},
   "source": [
    "## Problem"
   ]
  },
  {
   "cell_type": "markdown",
   "metadata": {},
   "source": [
    "As is the case with point mutations, the most common type of sequencing error occurs when a single nucleotide frmo a read is interpreted incorrectly."
   ]
  },
  {
   "cell_type": "markdown",
   "metadata": {},
   "source": [
    "**Given**: A collection of up to 1000 reads of equal length in FASTA format. Some of these reads were generated with a single-nucleotide error. For each read $s$ in the dataset, one of the following applies:\n",
    "\n",
    "* $s$ was correctly sequenced and appears in the dataset at least twice (possibly as a reverse complement).\n",
    "* $s$ is incorrect, it appears in the dataset exactly once, and its Hamming distance is 1 with respect to exactly one correct read in the dataset (or its reverse complement).\n",
    "\n",
    "**Return**: A list of all corrections in the form \"[old read] --> [new read]\". (Each correction must be a single symbol subsitution)."
   ]
  },
  {
   "cell_type": "markdown",
   "metadata": {},
   "source": [
    "## Solution Explaination"
   ]
  },
  {
   "cell_type": "code",
   "execution_count": 1,
   "metadata": {},
   "outputs": [],
   "source": [
    "# need a function to calculate hamming distance (if 1--> return as the list of old --> new read)\n",
    "# need a function to check if there's a reverse complement in the dataset that matches s."
   ]
  },
  {
   "cell_type": "code",
   "execution_count": null,
   "metadata": {},
   "outputs": [],
   "source": [
    "f = open('../Sample_Error_Correction_in_Reads.txt', 'r')\n"
   ]
  }
 ],
 "metadata": {
  "kernelspec": {
   "display_name": "Python 3",
   "language": "python",
   "name": "python3"
  },
  "language_info": {
   "codemirror_mode": {
    "name": "ipython",
    "version": 3
   },
   "file_extension": ".py",
   "mimetype": "text/x-python",
   "name": "python",
   "nbconvert_exporter": "python",
   "pygments_lexer": "ipython3",
   "version": "3.7.4"
  }
 },
 "nbformat": 4,
 "nbformat_minor": 4
}
